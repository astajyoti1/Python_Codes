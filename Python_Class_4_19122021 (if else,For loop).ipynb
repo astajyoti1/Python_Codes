{
 "cells": [
  {
   "cell_type": "markdown",
   "metadata": {},
   "source": [
    "# if else Statement"
   ]
  },
  {
   "cell_type": "code",
   "execution_count": 1,
   "metadata": {},
   "outputs": [],
   "source": [
    "a = 10"
   ]
  },
  {
   "cell_type": "code",
   "execution_count": 2,
   "metadata": {},
   "outputs": [
    {
     "data": {
      "text/plain": [
       "True"
      ]
     },
     "execution_count": 2,
     "metadata": {},
     "output_type": "execute_result"
    }
   ],
   "source": [
    "a<15"
   ]
  },
  {
   "cell_type": "code",
   "execution_count": 3,
   "metadata": {},
   "outputs": [
    {
     "name": "stdout",
     "output_type": "stream",
     "text": [
      "My name is Astajyoti\n"
     ]
    }
   ],
   "source": [
    "if a<15:\n",
    "    print(\"My name is Astajyoti\")"
   ]
  },
  {
   "cell_type": "code",
   "execution_count": 4,
   "metadata": {},
   "outputs": [],
   "source": [
    "if a<15:\n",
    "    pass"
   ]
  },
  {
   "cell_type": "code",
   "execution_count": 5,
   "metadata": {},
   "outputs": [],
   "source": [
    "if 24<15:\n",
    "    print('May name is Asta')"
   ]
  },
  {
   "cell_type": "code",
   "execution_count": 7,
   "metadata": {
    "scrolled": true
   },
   "outputs": [
    {
     "name": "stdout",
     "output_type": "stream",
     "text": [
      "10 is not lesser than 3\n"
     ]
    }
   ],
   "source": [
    "if 10<3:\n",
    "    print('10 is lesser than 3')\n",
    "else:\n",
    "    print('10 is not lesser than 3')"
   ]
  },
  {
   "cell_type": "markdown",
   "metadata": {},
   "source": [
    "## elif"
   ]
  },
  {
   "cell_type": "code",
   "execution_count": 10,
   "metadata": {},
   "outputs": [
    {
     "name": "stdout",
     "output_type": "stream",
     "text": [
      "I wont be able to buy anything\n"
     ]
    }
   ],
   "source": [
    "income = 100\n",
    "\n",
    "if income<50:\n",
    "    print('I will be able to buy a phone')\n",
    "elif income<70:\n",
    "    print('I will be able to buy a car')\n",
    "elif income<90:\n",
    "    print('I will be able to rent a house')\n",
    "else:\n",
    "    print('I wont be able to buy anything')\n",
    "    "
   ]
  },
  {
   "cell_type": "code",
   "execution_count": 12,
   "metadata": {},
   "outputs": [
    {
     "name": "stdout",
     "output_type": "stream",
     "text": [
      "60\n",
      "I will be able to buy a car\n"
     ]
    }
   ],
   "source": [
    "income = int(input())\n",
    "\n",
    "if income<50:\n",
    "    print('I will be able to buy a phone')\n",
    "elif income<70:\n",
    "    print('I will be able to buy a car')\n",
    "elif income<90:\n",
    "    print('I will be able to rent a house')\n",
    "else:\n",
    "    print('I wont be able to buy anything')\n",
    "    "
   ]
  },
  {
   "cell_type": "code",
   "execution_count": 13,
   "metadata": {},
   "outputs": [
    {
     "name": "stdout",
     "output_type": "stream",
     "text": [
      "4565\n",
      "Discount will be  228.25\n"
     ]
    }
   ],
   "source": [
    "Total_price = int(input())\n",
    "\n",
    "if Total_price >20000:\n",
    "    discount = Total_price*.2\n",
    "    print('Discount will be ', discount)\n",
    "elif Total_price <= 7000:\n",
    "    discount = Total_price*.05\n",
    "    print('Discount will be ', discount)\n",
    "else:\n",
    "    print(\"wont be able to give any discount\")"
   ]
  },
  {
   "cell_type": "code",
   "execution_count": 18,
   "metadata": {},
   "outputs": [
    {
     "name": "stdout",
     "output_type": "stream",
     "text": [
      "you will be able to get a discount of 5%\n",
      "you will get this course with the amount: 6726.0\n"
     ]
    }
   ],
   "source": [
    "coup = 'ASTAJYOTI5'\n",
    "if coup == 'ASTAJYOTI5':\n",
    "    print('you will be able to get a discount of 5%')\n",
    "    paid_amount = 7080-7080*.05\n",
    "    print('you will get this course with the amount:',paid_amount)\n",
    "else:\n",
    "    print('Kindly use a valid code')"
   ]
  },
  {
   "cell_type": "code",
   "execution_count": 27,
   "metadata": {},
   "outputs": [
    {
     "name": "stdout",
     "output_type": "stream",
     "text": [
      "2\n",
      "It may take 6 month for transition\n"
     ]
    }
   ],
   "source": [
    "study_hour = int(input())\n",
    "if study_hour <1:\n",
    "    print(\"It may take 8-9 month of time to make a transition\")\n",
    "elif study_hour<4 and study_hour>1:\n",
    "    print('It may take 6 month for transition')\n",
    "elif study_hour>10:\n",
    "    print('It will take 3 month for transition')\n",
    "else:\n",
    "    print('It will be difficult')"
   ]
  },
  {
   "cell_type": "code",
   "execution_count": 28,
   "metadata": {},
   "outputs": [
    {
     "name": "stdout",
     "output_type": "stream",
     "text": [
      "valid\n"
     ]
    }
   ],
   "source": [
    "a = 9\n",
    "if a == 9 : print('valid')"
   ]
  },
  {
   "cell_type": "code",
   "execution_count": 39,
   "metadata": {},
   "outputs": [
    {
     "name": "stdout",
     "output_type": "stream",
     "text": [
      "Enter a string: 34\n",
      "enter a course: 34\n",
      "enter a service: 34\n",
      "please provide a proper ininput\n"
     ]
    }
   ],
   "source": [
    "s = input(\"Enter a string: \")\n",
    "course = input(\"enter a course: \")\n",
    "service = input(\"enter a service: \")\n",
    "\n",
    "if s == 'oneworld':\n",
    "    if course == 'DSA':\n",
    "        print('yes it is available under multiple engineering branch')\n",
    "    elif course == 'Blockchain':\n",
    "        print('This is not available in any engineering branch as of now')\n",
    "    elif course == 'MLDL':\n",
    "        print('Yes it is available in computer science branch')\n",
    "    else:\n",
    "        print('Read your branch course')\n",
    "elif s == 'onewebservice':\n",
    "    if service == 'courserequest':\n",
    "        print('it will be fulfilled in 60 days')\n",
    "    elif service == 'module':\n",
    "        print('it will be fullfilled in 30 days')\n",
    "    elif service == 'doubt':\n",
    "        print('it will be fullfilled in 24 hour')\n",
    "    elif service == 'workwithus':\n",
    "        print('lets start working together')\n",
    "    else:\n",
    "        print('kindly provide us feedback')\n",
    "else:\n",
    "    print('please provide a proper ininput')"
   ]
  },
  {
   "cell_type": "markdown",
   "metadata": {},
   "source": [
    "# For loop Statement"
   ]
  },
  {
   "cell_type": "code",
   "execution_count": 40,
   "metadata": {},
   "outputs": [],
   "source": [
    "l = [1,2,3,4,5,6]"
   ]
  },
  {
   "cell_type": "code",
   "execution_count": 41,
   "metadata": {
    "scrolled": true
   },
   "outputs": [
    {
     "name": "stdout",
     "output_type": "stream",
     "text": [
      "1\n",
      "2\n",
      "3\n",
      "4\n",
      "5\n",
      "6\n"
     ]
    }
   ],
   "source": [
    "for i in l:\n",
    "    print(i)"
   ]
  },
  {
   "cell_type": "code",
   "execution_count": 44,
   "metadata": {},
   "outputs": [
    {
     "name": "stdout",
     "output_type": "stream",
     "text": [
      "A\n",
      "s\n",
      "t\n",
      "a\n"
     ]
    }
   ],
   "source": [
    "for i in 'Asta':\n",
    "    print(i)"
   ]
  },
  {
   "cell_type": "code",
   "execution_count": 45,
   "metadata": {},
   "outputs": [],
   "source": [
    "l = [1,3.4,5+6j, True, 'Asta']"
   ]
  },
  {
   "cell_type": "code",
   "execution_count": 52,
   "metadata": {
    "scrolled": true
   },
   "outputs": [
    {
     "name": "stdout",
     "output_type": "stream",
     "text": [
      "<class 'int'>\n",
      "<class 'float'>\n",
      "<class 'complex'>\n",
      "<class 'bool'>\n",
      "<class 'str'>\n"
     ]
    }
   ],
   "source": [
    "# For getting the data type of all the element of the above list\n",
    "for i in l:\n",
    "    print(type(i))"
   ]
  },
  {
   "cell_type": "code",
   "execution_count": 54,
   "metadata": {},
   "outputs": [
    {
     "name": "stdout",
     "output_type": "stream",
     "text": [
      "<class 'int'> data type of  1\n",
      "<class 'float'> data type of  3.4\n",
      "<class 'complex'> data type of  (5+6j)\n",
      "<class 'bool'> data type of  True\n",
      "<class 'str'> data type of  Asta\n"
     ]
    }
   ],
   "source": [
    "for i in l:\n",
    "    print(type(i), 'data type of ', i)"
   ]
  },
  {
   "cell_type": "code",
   "execution_count": 55,
   "metadata": {},
   "outputs": [
    {
     "name": "stdout",
     "output_type": "stream",
     "text": [
      "3\n",
      "5\n",
      "8.8\n"
     ]
    }
   ],
   "source": [
    "l = [1,3,6.8]\n",
    "for i in l:\n",
    "    print(i+2)"
   ]
  },
  {
   "cell_type": "code",
   "execution_count": 56,
   "metadata": {},
   "outputs": [],
   "source": [
    "# Perform a task and return a list\n",
    "l = [1,3,6.8]\n",
    "l1= []\n",
    "for i in l:\n",
    "    l1.append(i+2)"
   ]
  },
  {
   "cell_type": "code",
   "execution_count": 57,
   "metadata": {},
   "outputs": [
    {
     "data": {
      "text/plain": [
       "[3, 5, 8.8]"
      ]
     },
     "execution_count": 57,
     "metadata": {},
     "output_type": "execute_result"
    }
   ],
   "source": [
    "l1"
   ]
  },
  {
   "cell_type": "code",
   "execution_count": 64,
   "metadata": {},
   "outputs": [],
   "source": [
    "l = [2,45,78,12,'asta', 5+2j, [2,3,4]]"
   ]
  },
  {
   "cell_type": "code",
   "execution_count": 65,
   "metadata": {},
   "outputs": [
    {
     "name": "stdout",
     "output_type": "stream",
     "text": [
      "2\n",
      "45\n",
      "78\n",
      "12\n"
     ]
    }
   ],
   "source": [
    "# Filter out only the integer from the baove list\n",
    "for i in l:\n",
    "    if type(i) == int:\n",
    "        print(i)"
   ]
  },
  {
   "cell_type": "code",
   "execution_count": 66,
   "metadata": {},
   "outputs": [
    {
     "name": "stdout",
     "output_type": "stream",
     "text": [
      "asta\n"
     ]
    }
   ],
   "source": [
    "for i in l:\n",
    "    if type(i) == str:\n",
    "        print(i)"
   ]
  },
  {
   "cell_type": "markdown",
   "metadata": {},
   "source": [
    "l = [2,45,78,12,'asta', 5+2j, [2,3,4]]\n",
    "1. try to print index of all the element\n",
    "2. try to extract all the list of char if elemetnt is string\n",
    "3. try to return a list after doing a square of all the integer element"
   ]
  },
  {
   "cell_type": "code",
   "execution_count": 87,
   "metadata": {},
   "outputs": [],
   "source": [
    "l = [2,45,78,12,45,'asta', 5+2j, [2,3,4], 'behera']"
   ]
  },
  {
   "cell_type": "code",
   "execution_count": 97,
   "metadata": {},
   "outputs": [
    {
     "name": "stdout",
     "output_type": "stream",
     "text": [
      "0\n",
      "1\n",
      "2\n",
      "3\n",
      "1\n",
      "5\n",
      "6\n",
      "7\n",
      "8\n"
     ]
    }
   ],
   "source": [
    "# 1. try to print index of all the element\n",
    "for i in l:\n",
    "    print(l.index(i))"
   ]
  },
  {
   "cell_type": "code",
   "execution_count": 91,
   "metadata": {},
   "outputs": [
    {
     "name": "stdout",
     "output_type": "stream",
     "text": [
      "index is  0  for the element  2\n",
      "index is  1  for the element  45\n",
      "index is  2  for the element  78\n",
      "index is  3  for the element  12\n",
      "index is  4  for the element  45\n",
      "index is  5  for the element  asta\n",
      "index is  6  for the element  (5+2j)\n",
      "index is  7  for the element  [2, 3, 4]\n",
      "index is  8  for the element  behera\n"
     ]
    }
   ],
   "source": [
    "# The above one will not give you the index of only the first element in the case of repeated element. Use the below one\n",
    "\n",
    "for i in range(len(l)):\n",
    "    print(\"index is \", i , ' for the element ', l[i])"
   ]
  },
  {
   "cell_type": "code",
   "execution_count": 95,
   "metadata": {},
   "outputs": [
    {
     "name": "stdout",
     "output_type": "stream",
     "text": [
      "(0, 2)\n",
      "(1, 45)\n",
      "(2, 78)\n",
      "(3, 12)\n",
      "(4, 45)\n",
      "(5, 'asta')\n",
      "(6, (5+2j))\n",
      "(7, [2, 3, 4])\n",
      "(8, 'behera')\n"
     ]
    }
   ],
   "source": [
    "# Using enumurate function\n",
    "\n",
    "for i in enumerate(l):\n",
    "    print(i)"
   ]
  },
  {
   "cell_type": "code",
   "execution_count": 101,
   "metadata": {},
   "outputs": [
    {
     "name": "stdout",
     "output_type": "stream",
     "text": [
      "['a', 's', 't', 'a']\n",
      "['b', 'e', 'h', 'e', 'r', 'a']\n"
     ]
    }
   ],
   "source": [
    "# 2. try to extract all the list of char if elemetnt is string\n",
    "l1 = []\n",
    "for i in l:\n",
    "    if type(i) == str:\n",
    "        l1 = []\n",
    "        for j in i:\n",
    "            l1.append(j)\n",
    "        print(l1)"
   ]
  },
  {
   "cell_type": "code",
   "execution_count": 102,
   "metadata": {},
   "outputs": [
    {
     "name": "stdout",
     "output_type": "stream",
     "text": [
      "['a', 's', 't', 'a']\n",
      "['b', 'e', 'h', 'e', 'r', 'a']\n"
     ]
    }
   ],
   "source": [
    "for i in l:\n",
    "    if type(i) == str:\n",
    "        print(list(i))"
   ]
  },
  {
   "cell_type": "code",
   "execution_count": 103,
   "metadata": {},
   "outputs": [],
   "source": [
    "# 3. try to return a list after doing a square of all the integer element\n",
    "l2 = []\n",
    "for i in l:\n",
    "    if type(i) == int:\n",
    "        l2.append(i^2)"
   ]
  },
  {
   "cell_type": "code",
   "execution_count": 104,
   "metadata": {},
   "outputs": [
    {
     "data": {
      "text/plain": [
       "[0, 47, 76, 14, 47]"
      ]
     },
     "execution_count": 104,
     "metadata": {},
     "output_type": "execute_result"
    }
   ],
   "source": [
    "l2"
   ]
  },
  {
   "cell_type": "code",
   "execution_count": null,
   "metadata": {},
   "outputs": [],
   "source": []
  }
 ],
 "metadata": {
  "kernelspec": {
   "display_name": "Python 3",
   "language": "python",
   "name": "python3"
  },
  "language_info": {
   "codemirror_mode": {
    "name": "ipython",
    "version": 3
   },
   "file_extension": ".py",
   "mimetype": "text/x-python",
   "name": "python",
   "nbconvert_exporter": "python",
   "pygments_lexer": "ipython3",
   "version": "3.8.5"
  }
 },
 "nbformat": 4,
 "nbformat_minor": 4
}
