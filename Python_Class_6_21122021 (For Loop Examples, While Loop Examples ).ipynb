{
 "cells": [
  {
   "cell_type": "code",
   "execution_count": 9,
   "metadata": {},
   "outputs": [
    {
     "data": {
      "text/plain": [
       "26"
      ]
     },
     "execution_count": 9,
     "metadata": {},
     "output_type": "execute_result"
    }
   ],
   "source": [
    "# count the number of letters inside the string\n",
    "s = 'This is basic python class'\n",
    "len(s)"
   ]
  },
  {
   "cell_type": "code",
   "execution_count": 5,
   "metadata": {},
   "outputs": [
    {
     "name": "stdout",
     "output_type": "stream",
     "text": [
      "26\n"
     ]
    }
   ],
   "source": [
    "count = 0\n",
    "for i in s:\n",
    "    #count = count+1\n",
    "    count += 1\n",
    "print(count)"
   ]
  },
  {
   "cell_type": "code",
   "execution_count": 6,
   "metadata": {},
   "outputs": [
    {
     "data": {
      "text/plain": [
       "'ssalc nohtyp cisab si sihT'"
      ]
     },
     "execution_count": 6,
     "metadata": {},
     "output_type": "execute_result"
    }
   ],
   "source": [
    "# Print a string in reverse order\n",
    "s[::-1]"
   ]
  },
  {
   "cell_type": "code",
   "execution_count": 7,
   "metadata": {
    "collapsed": true
   },
   "outputs": [
    {
     "name": "stdout",
     "output_type": "stream",
     "text": [
      "s\n",
      "s\n",
      "a\n",
      "l\n",
      "c\n",
      " \n",
      "n\n",
      "o\n",
      "h\n",
      "t\n",
      "y\n",
      "p\n",
      " \n",
      "c\n",
      "i\n",
      "s\n",
      "a\n",
      "b\n",
      " \n",
      "s\n",
      "i\n",
      " \n",
      "s\n",
      "i\n",
      "h\n",
      "T\n"
     ]
    }
   ],
   "source": [
    "for i in range(len(s)-1,-1,-1):\n",
    "    print(s[i])"
   ]
  },
  {
   "cell_type": "code",
   "execution_count": 12,
   "metadata": {},
   "outputs": [
    {
     "name": "stdout",
     "output_type": "stream",
     "text": [
      "ssalc nohtyp cisab si sihT"
     ]
    }
   ],
   "source": [
    "i = len(s)-1\n",
    "while (i>=0):\n",
    "    print(s[i], end = '')\n",
    "    i=i-1"
   ]
  },
  {
   "cell_type": "code",
   "execution_count": 18,
   "metadata": {},
   "outputs": [
    {
     "name": "stdout",
     "output_type": "stream",
     "text": [
      "vowel  a\n",
      "vowel  a\n",
      "vowel  o\n",
      "vowel  i\n"
     ]
    }
   ],
   "source": [
    "s = \"astajyoti\"\n",
    "v = 'AaEeIiOoUu'\n",
    "\n",
    "# Try to find out which chracter is a vowel and which are not\n",
    "for i in s:\n",
    "    for j in v:\n",
    "        if i == j:\n",
    "            print('vowel ',i)\n",
    "        else:\n",
    "            pass"
   ]
  },
  {
   "cell_type": "code",
   "execution_count": 16,
   "metadata": {},
   "outputs": [
    {
     "name": "stdout",
     "output_type": "stream",
     "text": [
      "vowel  a\n",
      "not vowel  s\n",
      "not vowel  t\n",
      "vowel  a\n",
      "not vowel  j\n",
      "not vowel  y\n",
      "vowel  o\n",
      "not vowel  t\n",
      "vowel  i\n"
     ]
    }
   ],
   "source": [
    "for i in s:\n",
    "    if i in v:\n",
    "        print('vowel ',i)\n",
    "    else:\n",
    "        print('not vowel ',i)"
   ]
  },
  {
   "cell_type": "code",
   "execution_count": 22,
   "metadata": {},
   "outputs": [
    {
     "name": "stdout",
     "output_type": "stream",
     "text": [
      "eye\n",
      "The string is a palindrome\n"
     ]
    }
   ],
   "source": [
    "# Write a code to check if a string is palindrome or not\n",
    "# \"eye\"\n",
    "# \"malayalam\"\n",
    "# \"tnet\"\n",
    "\n",
    "string = input()\n",
    "if(string==string[::-1]):\n",
    "    print(\"The string is a palindrome\")\n",
    "else:\n",
    "    print(\"Not a palindrome\")"
   ]
  },
  {
   "cell_type": "code",
   "execution_count": 24,
   "metadata": {},
   "outputs": [
    {
     "name": "stdout",
     "output_type": "stream",
     "text": [
      "eye\n",
      "palindrome\n"
     ]
    }
   ],
   "source": [
    "word = input()\n",
    "for i in range(len(word)):\n",
    "    if word[i] != word[len(word)-i-1]:\n",
    "        print(\"Not Palindrome\")\n",
    "        break\n",
    "else:\n",
    "    print(\"palindrome\")"
   ]
  },
  {
   "cell_type": "code",
   "execution_count": 26,
   "metadata": {},
   "outputs": [
    {
     "name": "stdout",
     "output_type": "stream",
     "text": [
      "eye\n",
      "palindrome\n"
     ]
    }
   ],
   "source": [
    "s = input()\n",
    "f = ''\n",
    "i = len(s)-1\n",
    "\n",
    "while i>=0:\n",
    "    f= f+s[i]\n",
    "    i = i-1\n",
    "if s==f:\n",
    "    print('palindrome')\n",
    "else:\n",
    "    print('not a palindrome')"
   ]
  },
  {
   "cell_type": "code",
   "execution_count": 28,
   "metadata": {},
   "outputs": [],
   "source": [
    "# Try to find out India is a part of this dictionary or not\n",
    "d = {'india':'IN', 'canada':'CA', 'china':'CH','United States':'US'}"
   ]
  },
  {
   "cell_type": "code",
   "execution_count": 29,
   "metadata": {},
   "outputs": [
    {
     "data": {
      "text/plain": [
       "True"
      ]
     },
     "execution_count": 29,
     "metadata": {},
     "output_type": "execute_result"
    }
   ],
   "source": [
    "'india' in d"
   ]
  },
  {
   "cell_type": "code",
   "execution_count": 31,
   "metadata": {},
   "outputs": [],
   "source": [
    "# find the countries which have more than 5 characters\n",
    "\n",
    "L_greater = []\n",
    "L_small = []\n",
    "\n",
    "for i in d:\n",
    "    if len(i)<=5:\n",
    "        L_small.append(i)\n",
    "    else:\n",
    "        L_greater.append(i)"
   ]
  },
  {
   "cell_type": "code",
   "execution_count": 32,
   "metadata": {},
   "outputs": [
    {
     "name": "stdout",
     "output_type": "stream",
     "text": [
      "['canada', 'United States']\n",
      "['india', 'china']\n"
     ]
    }
   ],
   "source": [
    "print(L_greater)\n",
    "print(L_small)"
   ]
  },
  {
   "cell_type": "code",
   "execution_count": 51,
   "metadata": {},
   "outputs": [],
   "source": [
    "# Find the maximum number in 'asta', 'behera' keys\n",
    "\n",
    "d1 = {'asta':{'a':14, 'b' : 10,'c':4}, 'behera':{'d':45, 'e':5, 'f':1 }}"
   ]
  },
  {
   "cell_type": "code",
   "execution_count": 37,
   "metadata": {},
   "outputs": [
    {
     "data": {
      "text/plain": [
       "{'asta': {'a': 14, 'b': 10, 'c': 4}, 'behera': {'d': 45, 'e': 50, 'f': 1}}"
      ]
     },
     "execution_count": 37,
     "metadata": {},
     "output_type": "execute_result"
    }
   ],
   "source": [
    "d1"
   ]
  },
  {
   "cell_type": "code",
   "execution_count": 55,
   "metadata": {},
   "outputs": [
    {
     "name": "stdout",
     "output_type": "stream",
     "text": [
      "[14, 45]\n"
     ]
    }
   ],
   "source": [
    "x = []\n",
    "for i in d1.keys():\n",
    "    x.append(max(d1[i].values()))\n",
    "print(x)"
   ]
  },
  {
   "cell_type": "code",
   "execution_count": 73,
   "metadata": {},
   "outputs": [],
   "source": [
    "# Out of all the integers, which is the maximum\n",
    "d1 = {'asta':{'a':14, 'b' : 90,'c':4}, 'behera':{'d':45, 'e':5, 'f':1 }, 'g':34, 'h':[45,6,7,8,9,3], 'i':(85,34,2), 'k':'asta'}"
   ]
  },
  {
   "cell_type": "code",
   "execution_count": 74,
   "metadata": {},
   "outputs": [
    {
     "name": "stdout",
     "output_type": "stream",
     "text": [
      "90\n"
     ]
    }
   ],
   "source": [
    "x = []\n",
    "for i in d1.keys():\n",
    "    if type(d1[i]) == dict:\n",
    "        x.append(max(d1[i].values()))\n",
    "    elif (type(d1[i]) == list) or (type(d1[i]) == tuple):\n",
    "        x.append(max(d1[i]))\n",
    "    elif type(d1[i]) == int:\n",
    "        x.append(d1[i])\n",
    "        \n",
    "print(max(x))"
   ]
  }
 ],
 "metadata": {
  "kernelspec": {
   "display_name": "Python 3",
   "language": "python",
   "name": "python3"
  },
  "language_info": {
   "codemirror_mode": {
    "name": "ipython",
    "version": 3
   },
   "file_extension": ".py",
   "mimetype": "text/x-python",
   "name": "python",
   "nbconvert_exporter": "python",
   "pygments_lexer": "ipython3",
   "version": "3.8.5"
  }
 },
 "nbformat": 4,
 "nbformat_minor": 4
}
